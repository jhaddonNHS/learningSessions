{
 "cells": [
  {
   "cell_type": "markdown",
   "id": "add03fb7-0abf-474d-9e46-43bf5eacfb2a",
   "metadata": {},
   "source": [
    "# Introduction to Python and Data Types"
   ]
  },
  {
   "cell_type": "markdown",
   "id": "52846601-4cd9-4767-b67c-0e86561fec6e",
   "metadata": {},
   "source": [
    "Python is a versatile, high-level programming language known for its simplicity and readability. \n",
    "- Created by Guido van Rossum and first released in 1991.\n",
    "- Python emphasizes code readability and an easily understandable syntax, making it an ideal choice for beginners and experienced developers alike.\n",
    "- Renowned for its extensive libraries and frameworks\n",
    "- Python facilitates rapid application development in various domains, including web development, data analysis, artificial intelligence, scientific computing, automation, and more.\n",
    "- Its clear and concise syntax promotes a collaborative and efficient coding environment\n",
    "- Contributing to Python's widespread adoption across industries and its reputation as a go-to language for building robust and scalable software solutions."
   ]
  },
  {
   "cell_type": "markdown",
   "id": "b6499028-bac4-42f6-9afc-d4347ce89d01",
   "metadata": {},
   "source": [
    "---"
   ]
  },
  {
   "cell_type": "markdown",
   "id": "1f6dbfc2-4071-492f-94ee-f00fd84637c9",
   "metadata": {},
   "source": [
    "- Can be installed on your laptop\n",
    "- Recommend installing via Miniconda (you can google this)\n",
    "- IDE - Doesn't need a specific development application (you can use notepad if you really want to) but many free and paid IDEs are available."
   ]
  },
  {
   "cell_type": "code",
   "execution_count": null,
   "id": "4fb2b2e4-4b26-40bb-b72c-72f16dc6c44c",
   "metadata": {},
   "outputs": [],
   "source": [
    "varTest = 'One'"
   ]
  }
 ],
 "metadata": {
  "kernelspec": {
   "display_name": "Python 3 (ipykernel)",
   "language": "python",
   "name": "python3"
  },
  "language_info": {
   "codemirror_mode": {
    "name": "ipython",
    "version": 3
   },
   "file_extension": ".py",
   "mimetype": "text/x-python",
   "name": "python",
   "nbconvert_exporter": "python",
   "pygments_lexer": "ipython3",
   "version": "3.9.12"
  }
 },
 "nbformat": 4,
 "nbformat_minor": 5
}
